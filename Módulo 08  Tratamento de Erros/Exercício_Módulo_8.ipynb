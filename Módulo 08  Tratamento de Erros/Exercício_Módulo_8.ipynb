{
  "nbformat": 4,
  "nbformat_minor": 0,
  "metadata": {
    "colab": {
      "provenance": []
    },
    "kernelspec": {
      "name": "python3",
      "display_name": "Python 3"
    },
    "language_info": {
      "name": "python"
    }
  },
  "cells": [
    {
      "cell_type": "code",
      "execution_count": 3,
      "metadata": {
        "colab": {
          "base_uri": "https://localhost:8080/"
        },
        "id": "77aM4B-LbeKA",
        "outputId": "ebbbfd8b-9a20-4345-c520-bc20571549ad"
      },
      "outputs": [
        {
          "output_type": "stream",
          "name": "stdout",
          "text": [
            "Para o documento 123, o valor do escore de crédito é 750.\n",
            "Para o documento 456, o valor do escore de crédito é 812.\n",
            "Para o documento 789, o valor do escore de crédito é 980.\n",
            "3.14159265359\n",
            "['andre.perez@gmail.com']\n",
            "Erro ao processar linha: 214946,\"4151.0\",18,20161208\n",
            " - could not convert string to float: '\"4151.0\"'\n",
            "{'104271': 448.0}\n",
            "{'21476': 2480.1000000000004}\n",
            "{'87440': 940.8000000000001}\n",
            "{'15980': 4848.0}\n",
            "{'215906': 11060.0}\n",
            "{'33696': 5542.6}\n",
            "{'33893': 6720.0}\n",
            "{'123974': 4043.9}\n",
            "{'225870': 8078.0}\n"
          ]
        }
      ],
      "source": [
        "# 1º Exercício: Erros de Sintaxe\n",
        "## Parte 1: Laços de Repetição\n",
        "# Erro:\n",
        "#     A indentação está faltando no print.\n",
        "#     A string no print está mal formatada (não fecha corretamente).\n",
        "\n",
        "# Correção:\n",
        "credit = {'123': 750, '456': 812, '789': 980}\n",
        "for key, value in credit.items():\n",
        "    print(f'Para o documento {key}, o valor do escore de crédito é {value}.')\n",
        "\n",
        "## Parte 2: Funções\n",
        "# Erro:\n",
        "    # A anotação do tipo de retorno está fora de lugar.\n",
        "    # Falta o return estar corretamente indentado.\n",
        "\n",
        "# Correção:\n",
        "def pi() -> float:\n",
        "    return 3.14159265359\n",
        "\n",
        "pi_value = pi()\n",
        "print(pi_value)\n",
        "\n",
        "## Parte 3: Programação Funcional\n",
        "# Erro:\n",
        "    # A string no lambda está mal formatada e falta o fechamento das aspas.\n",
        "    # filter deve usar uma função que retorne um booleano, então a lambda precisa verificar se 'gmail' está na string.\n",
        "\n",
        "# Correção:\n",
        "mails = [\n",
        "    'andre.perez@gmail.com',\n",
        "    'andre.perez@live.com',\n",
        "    'andre.perez@yahoo.com'\n",
        "]\n",
        "\n",
        "provider = lambda mail: 'gmail' in mail\n",
        "mails_google = filter(provider, mails)\n",
        "print(list(mails_google))\n",
        "\n",
        "## Parte 4: Programação Orientada a Objetos\n",
        "# Erro:\n",
        "    # O __init__ está com a sintaxe incorreta. O parâmetro nome deve ser separado por vírgulas.\n",
        "    # O atributo documento foi chamado de document na instância da classe.\n",
        "\n",
        "# Correção:\n",
        "class Person(object):\n",
        "    def __init__(self, name: str, age: int, document: str):\n",
        "        self.name = name\n",
        "        self.age = age\n",
        "        self.document = document\n",
        "\n",
        "andre = Person(name=\"Andre\", age=30, document=\"123\")\n",
        "\n",
        "# 2º Exercício: Erros em Tempo de Execução\n",
        "## Parte 2: Calcular o Total Emprestado\n",
        "# Erro:\n",
        "    # O código pode estourar uma exceção ValueError se o valor não puder ser convertido para float, como no caso de 4151.0 que está entre aspas.\n",
        "\n",
        "# Correção:\n",
        "def total_value_loan(value: float, amount: int) -> float:\n",
        "    return value * amount\n",
        "\n",
        "loans = []\n",
        "with open(file='./credito.csv', mode='r', encoding='utf8') as fp:\n",
        "    fp.readline() # cabeçalho\n",
        "    line = fp.readline()\n",
        "    while line:\n",
        "        loan_line = {}\n",
        "        element_line = line.strip().split(sep=',')\n",
        "        try:\n",
        "            loan_line['id_vendedor'] = element_line[0]\n",
        "            loan_line['valor_emprestimos'] = float(element_line[1])\n",
        "            loan_line['quantidade_emprestimos'] = int(element_line[2])\n",
        "            loan_line['data'] = element_line[3]\n",
        "        except ValueError as e:\n",
        "            print(f\"Erro ao processar linha: {line} - {e}\")\n",
        "            line = fp.readline()\n",
        "            continue\n",
        "\n",
        "        loans.append(loan_line)\n",
        "        line = fp.readline()\n",
        "\n",
        "total_loans = []\n",
        "for loan in loans:\n",
        "    total = total_value_loan(\n",
        "        value=loan['valor_emprestimos'],\n",
        "        amount=loan['quantidade_emprestimos']\n",
        "    )\n",
        "    total_loans.append({loan['id_vendedor']: total})\n",
        "\n",
        "for total_loan in total_loans:\n",
        "    print(total_loan)"
      ]
    },
    {
      "cell_type": "code",
      "source": [
        "%%writefile credito.csv\n",
        "id_vendedor,valor_emprestimos,quantidade_emprestimos,data\n",
        "104271,448.0,1,20161208\n",
        "21476,826.7,3,20161208\n",
        "87440,313.6,3,20161208\n",
        "15980,808.0,6,20161208\n",
        "215906,2212.0,5,20161208\n",
        "33696,2771.3,2,20161208\n",
        "33893,2240.0,3,20161208\n",
        "214946,\"4151.0\",18,20161208\n",
        "123974,2021.95,2,20161208\n",
        "225870,4039.0,2,20161208"
      ],
      "metadata": {
        "colab": {
          "base_uri": "https://localhost:8080/"
        },
        "id": "vT6Hvgl7cAUE",
        "outputId": "8b897e09-8518-4f32-847a-fe2e9ee6a745"
      },
      "execution_count": 2,
      "outputs": [
        {
          "output_type": "stream",
          "name": "stdout",
          "text": [
            "Writing credito.csv\n"
          ]
        }
      ]
    }
  ]
}
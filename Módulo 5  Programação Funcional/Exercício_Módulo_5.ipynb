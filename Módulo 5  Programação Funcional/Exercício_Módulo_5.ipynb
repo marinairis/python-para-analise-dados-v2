{
  "nbformat": 4,
  "nbformat_minor": 0,
  "metadata": {
    "colab": {
      "provenance": []
    },
    "kernelspec": {
      "name": "python3",
      "display_name": "Python 3"
    },
    "language_info": {
      "name": "python"
    }
  },
  "cells": [
    {
      "cell_type": "code",
      "execution_count": 5,
      "metadata": {
        "colab": {
          "base_uri": "https://localhost:8080/"
        },
        "id": "RPHKEJoXQ5wD",
        "outputId": "acd49a13-9816-43ad-d62a-5fd0f7c18f2e"
      },
      "outputs": [
        {
          "output_type": "stream",
          "name": "stdout",
          "text": [
            "[448.0, 826.7, 313.6, -8008.0, 2212.0, 2771.3, 2240.0, -4151.0, 2021.95, 4039.0]\n",
            "[448.0, 826.7, 313.6, 2212.0, 2771.3, 2240.0, 2021.95, 4039.0]\n",
            "14872.550000000001\n",
            "1859.0687500000001\n",
            "1271.9972711497849\n"
          ]
        }
      ],
      "source": [
        "# 1º Exercício: Função map\n",
        "## Lista inicial de empréstimos\n",
        "loan = []\n",
        "with open('./credito.csv', mode='r', encoding='utf8') as fp:\n",
        "    fp.readline()\n",
        "    line = fp.readline()\n",
        "    while line:\n",
        "        line_loan = {}\n",
        "        elements_line = line.strip().split(sep=',')\n",
        "        line_loan['id_vendedor'] = elements_line[0]\n",
        "        line_loan['valor_emprestimos'] = elements_line[1]\n",
        "        line_loan['quantidade_emprestimos'] = elements_line[2]\n",
        "        line_loan['data'] = elements_line[3]\n",
        "        loan.append(line_loan)\n",
        "        line = fp.readline()\n",
        "\n",
        "# Aplicar map para extrair e converter valores\n",
        "value_loan = list(map(lambda e: float(e['valor_emprestimos']), loan))\n",
        "print(value_loan)\n",
        "\n",
        "# 2º Exercício: Função filter\n",
        "## Aplicar filter para valores maiores que zero\n",
        "value_loan_new = list(filter(lambda v: v > 0, value_loan))\n",
        "print(value_loan_new)\n",
        "\n",
        "# 3º Exercício: Função reduce\n",
        "## 1ª Parte: Função reduce para extrair a soma\n",
        "from functools import reduce\n",
        "\n",
        "total_value_loan = reduce(lambda x, y: x + y, value_loan_new)\n",
        "print(total_value_loan)\n",
        "\n",
        "## 2ª Parte: Função reduce para extrair a média aritmética\n",
        "average_value_loan = total_value_loan / len(value_loan_new)\n",
        "print(average_value_loan)\n",
        "\n",
        "## 3ª Parte: Função reduce para extrair o desvio padrão amostral\n",
        "import math\n",
        "\n",
        "sum_diff = reduce(lambda acc, x: acc + (x - average_value_loan) ** 2, value_loan_new, 0)\n",
        "deviation_value = math.sqrt(sum_diff / (len(value_loan_new) - 1))\n",
        "print(deviation_value)\n"
      ]
    },
    {
      "cell_type": "code",
      "source": [
        "%%writefile credito.csv\n",
        "id_vendedor,valor_emprestimos,quantidade_emprestimos,data\n",
        "104271,448.0,1,20161208\n",
        "21476,826.7,3,20161208\n",
        "87440,313.6,3,20161208\n",
        "15980,-8008.0,6,20161208\n",
        "215906,2212.0,5,20161208\n",
        "33696,2771.3,2,20161208\n",
        "33893,2240.0,3,20161208\n",
        "214946,-4151.0,18,20161208\n",
        "123974,2021.95,2,20161208\n",
        "225870,4039.0,2,20161208"
      ],
      "metadata": {
        "colab": {
          "base_uri": "https://localhost:8080/"
        },
        "id": "Ho4zAmILSYom",
        "outputId": "b65a865c-cd59-46d0-888a-c9ea2208f4de"
      },
      "execution_count": 4,
      "outputs": [
        {
          "output_type": "stream",
          "name": "stdout",
          "text": [
            "Writing credito.csv\n"
          ]
        }
      ]
    }
  ]
}
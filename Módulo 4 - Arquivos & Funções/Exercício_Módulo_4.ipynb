{
  "nbformat": 4,
  "nbformat_minor": 0,
  "metadata": {
    "colab": {
      "provenance": []
    },
    "kernelspec": {
      "name": "python3",
      "display_name": "Python 3"
    },
    "language_info": {
      "name": "python"
    }
  },
  "cells": [
    {
      "cell_type": "code",
      "source": [
        "# 1º Exercício: Arquivos\n",
        "# 2º Exercício: Funções para arquivo CSV\n",
        "## Parte 1: Completar a função para extrair uma coluna do arquivo CSV\n",
        "import csv\n",
        "\n",
        "def extract_column_csv(name_file: str, index_column: int, data_tipy: str):\n",
        "    coluna = []\n",
        "\n",
        "    with open(name_file, mode='r') as file:\n",
        "        reader = csv.reader(file)\n",
        "        next(reader)  # Pular o cabeçalho\n",
        "        for linha in reader:\n",
        "            value = linha[index_column]\n",
        "            if data_tipy == 'int':\n",
        "                coluna.append(int(value))\n",
        "            elif data_tipy == 'float':\n",
        "                coluna.append(float(value))\n",
        "            else:\n",
        "                coluna.append(str(value))\n",
        "\n",
        "    return coluna\n",
        "\n",
        "# Parte 2: Testar a função\n",
        "sale_value = extract_column_csv(\n",
        "    name_file='./carros.csv',\n",
        "    index_column=1,\n",
        "    data_tipy='str'\n",
        ")\n",
        "print(sale_value)\n",
        "\n",
        "pessoas = extract_column_csv(\n",
        "    name_file='./carros.csv',\n",
        "    index_column=4,\n",
        "    data_tipy='int'\n",
        ")\n",
        "\n",
        "print(pessoas)\n",
        "\n",
        "# 3º Exercício: Funções para arquivo TXT\n",
        "## Parte 1: Completar a função para extrair palavras de uma linha do arquivo TXT\n",
        "def extract_column_txt(name_file: str, number_line: int):\n",
        "    word = []\n",
        "\n",
        "    with open(name_file, mode='r') as file:\n",
        "        lines = file.readlines()\n",
        "        if 0 <= number_line < len(lines):\n",
        "            line = lines[number_line].strip()\n",
        "            word = line.split(' ')\n",
        "\n",
        "    return word\n",
        "\n",
        "## Parte 2: Testar a função\n",
        "line_10 = extract_column_txt(name_file='./musica.txt', number_line=10)\n",
        "print(line_10)\n"
      ],
      "metadata": {
        "colab": {
          "base_uri": "https://localhost:8080/"
        },
        "id": "HnzDPWa3Mzot",
        "outputId": "349dddc1-2bef-4122-8d13-86a6f259aa94"
      },
      "execution_count": 7,
      "outputs": [
        {
          "output_type": "stream",
          "name": "stdout",
          "text": [
            "['vhigh', 'med', 'low', 'low', 'low', 'low', 'low', 'low', 'low', 'low', 'low', 'low', 'low', 'low']\n",
            "[2, 2, 2, 2, 2, 4, 4, 2, 2, 2, 4, 2, 4, 4]\n",
            "['Roda', 'mundo,', 'roda-gigante']\n"
          ]
        }
      ]
    },
    {
      "cell_type": "code",
      "source": [
        "%%writefile carros.csv\n",
        "id,valor_venda,valor_manutencao,portas,pessoas,porta_malas\n",
        "1,vhigh,med,2,2,small\n",
        "2,med,vhigh,2,2,small\n",
        "3,low,vhigh,2,2,small\n",
        "4,low,high,2,2,small\n",
        "5,low,high,2,2,small\n",
        "6,low,high,4,4,big\n",
        "7,low,high,4,4,big\n",
        "8,low,med,2,2,small\n",
        "9,low,med,2,2,small\n",
        "10,low,med,2,2,small\n",
        "11,low,med,4,4,big\n",
        "12,low,low,2,2,small\n",
        "13,low,low,4,4,small\n",
        "14,low,low,4,4,med\n"
      ],
      "metadata": {
        "colab": {
          "base_uri": "https://localhost:8080/"
        },
        "id": "eiwiQ_bhPCxd",
        "outputId": "e25803d3-d0c7-4aa5-8612-d78650f863f7"
      },
      "execution_count": 3,
      "outputs": [
        {
          "output_type": "stream",
          "name": "stdout",
          "text": [
            "Writing carros.csv\n"
          ]
        }
      ]
    },
    {
      "cell_type": "code",
      "source": [
        "%%writefile musica.txt\n",
        "Roda Viva\n",
        "Chico Buarque\n",
        "Tem dias que a gente se sente\n",
        "Como quem partiu ou morreu\n",
        "A gente estancou de repente\n",
        "Ou foi o mundo então que cresceu\n",
        "A gente quer ter voz ativa\n",
        "No nosso destino mandar\n",
        "Mas eis que chega a roda viva\n",
        "E carrega o destino pra lá\n",
        "Roda mundo, roda-gigante\n",
        "Roda moinho, roda pião\n",
        "O tempo rodou num instante\n",
        "Nas voltas do meu coração\n",
        "A gente vai contra a corrente\n",
        "Até não poder resistir\n",
        "Na volta do barco é que sente\n",
        "O quanto deixou de cumprir\n",
        "Faz tempo que a gente cultiva\n",
        "A mais linda roseira que há\n",
        "Mas eis que chega a roda viva\n",
        "E carrega a roseira pra lá\n",
        "Roda mundo, roda-gigante\n",
        "Roda moinho, roda pião\n"
      ],
      "metadata": {
        "colab": {
          "base_uri": "https://localhost:8080/"
        },
        "id": "kIxm4jdIPGlD",
        "outputId": "c64f0628-0822-4e22-82ac-c5f5b646a2b0"
      },
      "execution_count": 4,
      "outputs": [
        {
          "output_type": "stream",
          "name": "stdout",
          "text": [
            "Writing musica.txt\n"
          ]
        }
      ]
    }
  ]
}
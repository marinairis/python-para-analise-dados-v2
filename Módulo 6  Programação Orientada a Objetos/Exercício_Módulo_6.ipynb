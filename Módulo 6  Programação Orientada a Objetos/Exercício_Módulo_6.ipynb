{
  "nbformat": 4,
  "nbformat_minor": 0,
  "metadata": {
    "colab": {
      "provenance": []
    },
    "kernelspec": {
      "name": "python3",
      "display_name": "Python 3"
    },
    "language_info": {
      "name": "python"
    }
  },
  "cells": [
    {
      "cell_type": "code",
      "execution_count": 1,
      "metadata": {
        "colab": {
          "base_uri": "https://localhost:8080/"
        },
        "id": "SwQIQhRiVbZ5",
        "outputId": "3af5bd68-06b8-48df-b3e5-e5636204a9f3"
      },
      "outputs": [
        {
          "output_type": "stream",
          "name": "stdout",
          "text": [
            "Writing musica.txt\n"
          ]
        }
      ],
      "source": [
        "%%writefile musica.txt\n",
        "\n",
        "Roda Viva\n",
        "\n",
        "Chico Buarque\n",
        "\n",
        "Tem dias que a gente se sente\n",
        "\n",
        "Como quem partiu ou morreu\n",
        "\n",
        "A gente estancou de repente\n",
        "\n",
        "Ou foi o mundo então que cresceu\n",
        "\n",
        "A gente quer ter voz ativa\n",
        "\n",
        "No nosso destino mandar\n",
        "\n",
        "Mas eis que chega a roda viva\n",
        "\n",
        "E carrega o destino pra lá\n",
        "\n",
        "Roda mundo, roda-gigante\n",
        "\n",
        "Roda moinho, roda pião\n",
        "\n",
        "O tempo rodou num instante\n",
        "\n",
        "Nas voltas do meu coração\n",
        "\n",
        "A gente vai contra a corrente\n",
        "\n",
        "Até não poder resistir\n",
        "\n",
        "Na volta do barco é que sente\n",
        "\n",
        "O quanto deixou de cumprir\n",
        "\n",
        "Faz tempo que a gente cultiva\n",
        "\n",
        "A mais linda roseira que há\n",
        "\n",
        "Mas eis que chega a roda viva\n",
        "\n",
        "E carrega a roseira pra lá\n",
        "\n",
        "Roda mundo, roda-gigante\n",
        "\n",
        "Roda moinho, roda pião"
      ]
    },
    {
      "cell_type": "code",
      "source": [
        "%%writefile carros.csv\n",
        "id,valor_venda,valor_manutencao,portas,pessoas,porta_malas\n",
        "1,vhigh,med,2,2,small\n",
        "2,med,vhigh,2,2,small\n",
        "3,low,vhigh,2,2,small\n",
        "4,low,high,2,2,small\n",
        "5,low,high,2,2,small\n",
        "6,low,high,4,4,big\n",
        "7,low,high,4,4,big\n",
        "8,low,med,2,2,small\n",
        "9,low,med,2,2,small\n",
        "10,low,med,2,2,small\n",
        "11,low,med,4,4,big\n",
        "12,low,low,2,2,small\n",
        "13,low,low,4,4,small\n",
        "14,low,low,4,4,med\n"
      ],
      "metadata": {
        "colab": {
          "base_uri": "https://localhost:8080/"
        },
        "id": "v5gck6fUVvDl",
        "outputId": "8e553694-71f6-4d58-d5c2-665991022b44"
      },
      "execution_count": 2,
      "outputs": [
        {
          "output_type": "stream",
          "name": "stdout",
          "text": [
            "Writing carros.csv\n"
          ]
        }
      ]
    },
    {
      "cell_type": "code",
      "source": [
        "# Parte 1: Classe ArquivoTexto\n",
        "class ArquivoTexto:\n",
        "    def __init__(self, arquivo: str):\n",
        "        self.arquivo = arquivo\n",
        "        # Lê o conteúdo do arquivo e armazena cada linha em uma lista\n",
        "        with open(arquivo, 'r') as file:\n",
        "            self.conteudo = file.readlines()\n",
        "\n",
        "    def extrair_linha(self, numero_linha: int):\n",
        "        # Retorna a linha específica, considerando que o índice começa em 0\n",
        "        if 1 <= numero_linha <= len(self.conteudo):\n",
        "            return self.conteudo[numero_linha - 1].strip()\n",
        "        else:\n",
        "            raise IndexError(\"Número da linha fora do intervalo.\")\n",
        "\n",
        "# Parte 2: Teste da Classe ArquivoTexto\n",
        "arquivo_texto = ArquivoTexto(arquivo='musica.txt')\n",
        "numero_linha = 1\n",
        "print(arquivo_texto.extrair_linha(numero_linha=numero_linha))\n",
        "numero_linha = 10\n",
        "print(arquivo_texto.extrair_linha(numero_linha=numero_linha))\n",
        "\n",
        "# Parte 1: Classe ArquivoCSV\n",
        "import csv\n",
        "\n",
        "class ArquivoCSV(ArquivoTexto):\n",
        "    def __init__(self, arquivo: str):\n",
        "        super().__init__(arquivo)\n",
        "        # Lê o cabeçalho do arquivo CSV e armazena os nomes das colunas\n",
        "        with open(arquivo, 'r') as file:\n",
        "            reader = csv.reader(file)\n",
        "            self.colunas = next(reader)\n",
        "\n",
        "    def extrair_coluna_da_linha(self, numero_linha: int, numero_coluna: int):\n",
        "        # Retorna o valor da célula especificada\n",
        "        if 1 <= numero_linha <= len(self.conteudo):\n",
        "            linha = self.conteudo[numero_linha - 1].split(',')\n",
        "            if 0 <= numero_coluna < len(linha):\n",
        "                return linha[numero_coluna].strip()\n",
        "            else:\n",
        "                raise IndexError(\"Número da coluna fora do intervalo.\")\n",
        "        else:\n",
        "            raise IndexError(\"Número da linha fora do intervalo.\")\n",
        "\n",
        "# Parte 2: Teste da Classe ArquivoCSV\n",
        "arquivo_csv = ArquivoCSV(arquivo='carros.csv')\n",
        "numero_linha = 1\n",
        "print(arquivo_csv.extrair_linha(numero_linha=numero_linha))\n",
        "# id,valor_venda,valor_manutencao,portas,pessoas,porta_malas\n",
        "print(arquivo_csv.colunas)\n",
        "# [\n",
        "# 'id',\n",
        "# 'valor_venda',\n",
        "# 'valor_manutencao',\n",
        "# 'portas',\n",
        "# 'pessoas',\n",
        "# 'porta_malas'\n",
        "# ]\n",
        "numero_linha = 10\n",
        "print(arquivo_csv.extrair_linha(numero_linha=numero_linha))\n",
        "# 9,low,med,2,2,small\n",
        "numero_linha = 10\n",
        "numero_coluna = 2\n",
        "print(\n",
        "    arquivo_csv.extrair_coluna_da_linha(\n",
        "        numero_linha=numero_linha,\n",
        "        numero_coluna=numero_coluna\n",
        "    )\n",
        ")\n",
        "# low"
      ],
      "metadata": {
        "colab": {
          "base_uri": "https://localhost:8080/"
        },
        "id": "EwMTYW76Vv7m",
        "outputId": "f0fcb419-3d5c-42c2-c6d5-d25640505126"
      },
      "execution_count": 3,
      "outputs": [
        {
          "output_type": "stream",
          "name": "stdout",
          "text": [
            "\n",
            "A gente estancou de repente\n",
            "id,valor_venda,valor_manutencao,portas,pessoas,porta_malas\n",
            "['id', 'valor_venda', 'valor_manutencao', 'portas', 'pessoas', 'porta_malas']\n",
            "9,low,med,2,2,small\n",
            "med\n"
          ]
        }
      ]
    }
  ]
}
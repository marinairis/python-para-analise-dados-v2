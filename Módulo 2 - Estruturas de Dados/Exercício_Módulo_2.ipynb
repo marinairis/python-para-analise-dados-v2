{
  "nbformat": 4,
  "nbformat_minor": 0,
  "metadata": {
    "colab": {
      "provenance": []
    },
    "kernelspec": {
      "name": "python3",
      "display_name": "Python 3"
    },
    "language_info": {
      "name": "python"
    }
  },
  "cells": [
    {
      "cell_type": "code",
      "execution_count": 1,
      "metadata": {
        "colab": {
          "base_uri": "https://localhost:8080/"
        },
        "id": "-sc6Kou7Jjir",
        "outputId": "67b05846-42b8-4a77-e7dc-000912c96d31"
      },
      "outputs": [
        {
          "output_type": "stream",
          "name": "stdout",
          "text": [
            "['The Godfather', 'The Shawshank Redemption', 'The Dark Knight', 'The Godfather Part II', '12 Angry Men', \"Schindler's List\", 'The Lord of the Rings: The Return of the King', 'Pulp Fiction', 'The Good, the Bad and the Ugly', 'Fight Club']\n",
            "['The Godfather', 'The Shawshank Redemption', 'The Dark Knight', 'The Godfather Part II', '12 Angry Men', \"Schindler's List\", 'The Lord of the Rings: The Return of the King', 'Pulp Fiction', 'The Good, the Bad and the Ugly', 'Fight Club', 'Pulp Fiction', 'The Good, the Bad and the Ugly', 'Fight Club']\n",
            "['Fight Club', 'The Godfather', 'The Dark Knight', 'The Shawshank Redemption', 'The Good, the Bad and the Ugly', \"Schindler's List\", '12 Angry Men', 'The Lord of the Rings: The Return of the King', 'The Godfather Part II', 'Pulp Fiction']\n",
            "[{'nome': 'The Shawshank Redemption', 'ano': 1994, 'sinopse': 'Two imprisoned men bond over a number of years, finding solace and eventual redemption through acts of common decency.'}, {'nome': 'The Godfather', 'ano': 1972, 'sinopse': 'The aging patriarch of an organized crime dynasty transfers control of his clandestine empire to his reluctant son.'}, {'nome': 'The Dark Knight', 'ano': 2008, 'sinopse': 'When the menace known as the Joker emerges from his mysterious past, he wreaks havoc and chaos on the people of Gotham.'}, {'nome': 'The Godfather Part II', 'ano': 1974, 'sinopse': 'The early life and career of Vito Corleone in 1920s New York is portrayed while his son, Michael, expands and tightens his grip on the family crime syndicate.'}, {'nome': '12 Angry Men', 'ano': 1957, 'sinopse': 'A jury holdout attempts to prevent a miscarriage of justice by forcing his colleagues to reconsider the evidence.'}, {'nome': 'Schindler’s List', 'ano': 1993, 'sinopse': 'In German-occupied Poland during World War II, Oskar Schindler gradually becomes concerned for his Jewish workforce after witnessing their persecution by the Nazis.'}, {'nome': 'The Lord of the Rings: The Return of the King', 'ano': 2003, 'sinopse': \"Gandalf and Aragorn lead the World of Men against Sauron's army to draw his gaze from Frodo and Sam as they approach Mount Doom with the One Ring.\"}, {'nome': 'Pulp Fiction', 'ano': 1994, 'sinopse': 'The lives of two mob hitmen, a boxer, a gangster and his wife, and a pair of diner bandits intertwine in four tales of violence and redemption.'}, {'nome': 'The Good, the Bad and the Ugly', 'ano': 1966, 'sinopse': 'A bounty hunting scam joins two men in an uneasy alliance against a third in a race to find a fortune in gold buried in a remote cemetery.'}, {'nome': 'Fight Club', 'ano': 1999, 'sinopse': 'An insomniac office worker and a devil-may-care soap maker form an underground fight club that evolves into much more.'}]\n"
          ]
        }
      ],
      "source": [
        "# 1º Exercício: Listas\n",
        "## Parte 1: Criação da Lista\n",
        "films = [\"The Shawshank Redemption\", \"The Godfather\", \"The Dark Knight\",\n",
        "  \"The Godfather Part II\", \"12 Angry Men\", \"Schindler's List\",\n",
        "  \"The Lord of the Rings: The Return of the King\", \"Pulp Fiction\",\n",
        "  \"The Good, the Bad and the Ugly\", \"Fight Club\"\n",
        "]\n",
        "\n",
        "## Parte 2: Simulação de Movimentação do Ranking\n",
        "first_film = films.pop(0)\n",
        "films.insert(1, first_film)\n",
        "print(films)\n",
        "\n",
        "# 2º Exercício: Conjuntos\n",
        "## Parte 1: Simulação de Duplicação\n",
        "films.extend(films[-3:])\n",
        "print(films)\n",
        "\n",
        "# Parte 2: Remover Valores Duplicados\n",
        "films = list(set(films))\n",
        "print(films)\n",
        "\n",
        "# 3º Exercício: Dicionários\n",
        "films = [\n",
        "    {'nome': 'The Shawshank Redemption', 'ano': 1994, 'sinopse': 'Two imprisoned men bond over a number of years, finding solace and eventual redemption through acts of common decency.'},\n",
        "    {'nome': 'The Godfather', 'ano': 1972, 'sinopse': 'The aging patriarch of an organized crime dynasty transfers control of his clandestine empire to his reluctant son.'},\n",
        "    {'nome': 'The Dark Knight', 'ano': 2008, 'sinopse': 'When the menace known as the Joker emerges from his mysterious past, he wreaks havoc and chaos on the people of Gotham.'},\n",
        "    {'nome': 'The Godfather Part II', 'ano': 1974, 'sinopse': 'The early life and career of Vito Corleone in 1920s New York is portrayed while his son, Michael, expands and tightens his grip on the family crime syndicate.'},\n",
        "    {'nome': '12 Angry Men', 'ano': 1957, 'sinopse': 'A jury holdout attempts to prevent a miscarriage of justice by forcing his colleagues to reconsider the evidence.'},\n",
        "    {'nome': 'Schindler’s List', 'ano': 1993, 'sinopse': 'In German-occupied Poland during World War II, Oskar Schindler gradually becomes concerned for his Jewish workforce after witnessing their persecution by the Nazis.'},\n",
        "    {'nome': 'The Lord of the Rings: The Return of the King', 'ano': 2003, 'sinopse': 'Gandalf and Aragorn lead the World of Men against Sauron\\'s army to draw his gaze from Frodo and Sam as they approach Mount Doom with the One Ring.'},\n",
        "    {'nome': 'Pulp Fiction', 'ano': 1994, 'sinopse': 'The lives of two mob hitmen, a boxer, a gangster and his wife, and a pair of diner bandits intertwine in four tales of violence and redemption.'},\n",
        "    {'nome': 'The Good, the Bad and the Ugly', 'ano': 1966, 'sinopse': 'A bounty hunting scam joins two men in an uneasy alliance against a third in a race to find a fortune in gold buried in a remote cemetery.'},\n",
        "    {'nome': 'Fight Club', 'ano': 1999, 'sinopse': 'An insomniac office worker and a devil-may-care soap maker form an underground fight club that evolves into much more.'}\n",
        "]\n",
        "print(films)"
      ]
    }
  ]
}